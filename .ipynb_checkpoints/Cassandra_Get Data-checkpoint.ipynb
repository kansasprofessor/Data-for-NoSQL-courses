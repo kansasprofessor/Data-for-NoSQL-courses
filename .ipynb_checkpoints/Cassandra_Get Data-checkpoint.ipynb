{
 "cells": [
  {
   "cell_type": "code",
   "execution_count": null,
   "id": "41d47394",
   "metadata": {},
   "outputs": [],
   "source": [
    "pip install cassandra-driver"
   ]
  },
  {
   "cell_type": "code",
   "execution_count": 9,
   "id": "fd624469",
   "metadata": {},
   "outputs": [],
   "source": [
    "from cassandra.cluster import Cluster"
   ]
  },
  {
   "cell_type": "code",
   "execution_count": 10,
   "id": "c426eed1",
   "metadata": {},
   "outputs": [],
   "source": [
    "cluster = Cluster(['127.0.0.1'], port=9042)\n",
    "session = cluster.connect()"
   ]
  },
  {
   "cell_type": "code",
   "execution_count": 11,
   "id": "e9cabb21",
   "metadata": {},
   "outputs": [],
   "source": [
    "session = cluster.connect('store') "
   ]
  },
  {
   "cell_type": "code",
   "execution_count": 12,
   "id": "b86a419d",
   "metadata": {},
   "outputs": [],
   "source": [
    "query = 'SELECT SIC, IndustryName FROM businessline where SIC > 1000 ALLOW FILTERING'\n",
    "rows = session.execute(query)"
   ]
  },
  {
   "cell_type": "code",
   "execution_count": 13,
   "id": "043910e8",
   "metadata": {},
   "outputs": [
    {
     "name": "stdout",
     "output_type": "stream",
     "text": [
      "SIC | IndustryName\n",
      "----------------\n",
      "8994 | Cereals\n",
      "9587 | Chemicals\n",
      "9731 | Confections\n",
      "3698 | Seafood\n",
      "7406 | Beverages\n",
      "3324 | Snails\n",
      "6407 | Meat\n",
      "9143 | Housewares\n",
      "2361 | Poultry\n",
      "6206 | Produce\n"
     ]
    }
   ],
   "source": [
    "\n",
    "# Print the fetched data\n",
    "print(\"SIC_ | IndustryName\")\n",
    "print(\"----------------\")\n",
    "for row in rows:\n",
    "    print(f\"{row.sic} | {row.industryname}\")"
   ]
  },
  {
   "cell_type": "code",
   "execution_count": null,
   "id": "b556a412",
   "metadata": {},
   "outputs": [],
   "source": []
  }
 ],
 "metadata": {
  "kernelspec": {
   "display_name": "Python 3 (ipykernel)",
   "language": "python",
   "name": "python3"
  },
  "language_info": {
   "codemirror_mode": {
    "name": "ipython",
    "version": 3
   },
   "file_extension": ".py",
   "mimetype": "text/x-python",
   "name": "python",
   "nbconvert_exporter": "python",
   "pygments_lexer": "ipython3",
   "version": "3.9.12"
  }
 },
 "nbformat": 4,
 "nbformat_minor": 5
}
