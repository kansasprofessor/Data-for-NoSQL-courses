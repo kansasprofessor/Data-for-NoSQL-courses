{
 "cells": [
  {
   "cell_type": "code",
   "execution_count": 1,
   "id": "cb75a671",
   "metadata": {},
   "outputs": [
    {
     "name": "stdout",
     "output_type": "stream",
     "text": [
      "Collecting pymongoNote: you may need to restart the kernel to use updated packages.\n",
      "  Downloading pymongo-4.6.1-cp39-cp39-win_amd64.whl (472 kB)\n",
      "Collecting dnspython<3.0.0,>=1.16.0\n",
      "  Downloading dnspython-2.5.0-py3-none-any.whl (305 kB)\n",
      "Installing collected packages: dnspython, pymongo\n",
      "Successfully installed dnspython-2.5.0 pymongo-4.6.1\n",
      "\n"
     ]
    }
   ],
   "source": [
    "pip install pymongo"
   ]
  },
  {
   "cell_type": "code",
   "execution_count": 1,
   "id": "110894e9",
   "metadata": {},
   "outputs": [],
   "source": [
    "from pymongo import MongoClient\n",
    "import pandas as pd"
   ]
  },
  {
   "cell_type": "code",
   "execution_count": 2,
   "id": "41e9bde7",
   "metadata": {},
   "outputs": [],
   "source": [
    "# Connect to MongoDB\n",
    "client = MongoClient('mongodb://localhost:27017/')\n",
    "db = client['FinSer']\n",
    "collection = db['Accounts']"
   ]
  },
  {
   "cell_type": "code",
   "execution_count": 3,
   "id": "63a603f8",
   "metadata": {},
   "outputs": [],
   "source": [
    "# Define filter\n",
    "filter = {\n",
    "    'limit': {\n",
    "        '$lt': 9000\n",
    "    }\n",
    "}\n",
    "\n",
    "# Fetch data from MongoDB\n",
    "cursor = collection.find(filter=filter)"
   ]
  },
  {
   "cell_type": "code",
   "execution_count": 4,
   "id": "052ba67b",
   "metadata": {},
   "outputs": [],
   "source": [
    "# Convert cursor to DataFrame\n",
    "df = pd.DataFrame(list(cursor))"
   ]
  },
  {
   "cell_type": "code",
   "execution_count": 5,
   "id": "e6bd0f27",
   "metadata": {},
   "outputs": [
    {
     "name": "stdout",
     "output_type": "stream",
     "text": [
      "                        _id  account_id  limit  \\\n",
      "0  5ca4bbc7a2dd94ee58162458      852986   7000   \n",
      "1  5ca4bbc7a2dd94ee5816247a      777752   7000   \n",
      "2  5ca4bbc7a2dd94ee581624d5      312740   8000   \n",
      "3  5ca4bbc7a2dd94ee58162530      453851   7000   \n",
      "4  5ca4bbc7a2dd94ee58162540      388578   8000   \n",
      "\n",
      "                                            products  \n",
      "0  [Derivatives, Commodity, CurrencyService, Inve...  \n",
      "1  [CurrencyService, Brokerage, Commodity, Invest...  \n",
      "2                 [CurrencyService, InvestmentStock]  \n",
      "3  [CurrencyService, Brokerage, Derivatives, Inve...  \n",
      "4                     [Derivatives, InvestmentStock]  \n"
     ]
    }
   ],
   "source": [
    "# Do something with the DataFrame, for example, display the first few rows\n",
    "print(df.head())"
   ]
  },
  {
   "cell_type": "code",
   "execution_count": 8,
   "id": "534ff495",
   "metadata": {},
   "outputs": [
    {
     "name": "stdout",
     "output_type": "stream",
     "text": [
      "Collecting mysql\n",
      "  Downloading mysql-0.0.3-py3-none-any.whl (1.2 kB)\n",
      "Requirement already satisfied: mysqlclient in c:\\users\\madhavsharma\\anaconda3\\lib\\site-packages (from mysql) (2.1.1)\n",
      "Installing collected packages: mysql\n",
      "Successfully installed mysql-0.0.3\n",
      "Note: you may need to restart the kernel to use updated packages.\n"
     ]
    }
   ],
   "source": [
    "pip install mysql"
   ]
  },
  {
   "cell_type": "code",
   "execution_count": 2,
   "id": "1fdddd71",
   "metadata": {},
   "outputs": [
    {
     "name": "stdout",
     "output_type": "stream",
     "text": [
      "Collecting mysql-connector-python\n",
      "  Downloading mysql_connector_python-8.3.0-cp39-cp39-win_amd64.whl (15.4 MB)\n",
      "Installing collected packages: mysql-connector-python\n",
      "Successfully installed mysql-connector-python-8.3.0\n",
      "Note: you may need to restart the kernel to use updated packages.\n"
     ]
    }
   ],
   "source": [
    "pip install mysql-connector-python\n"
   ]
  },
  {
   "cell_type": "code",
   "execution_count": 6,
   "id": "5fea9b12",
   "metadata": {},
   "outputs": [],
   "source": [
    "import mysql.connector"
   ]
  },
  {
   "cell_type": "code",
   "execution_count": 7,
   "id": "9465e49b",
   "metadata": {},
   "outputs": [
    {
     "name": "stdout",
     "output_type": "stream",
     "text": [
      "Connected to MySQL database\n"
     ]
    }
   ],
   "source": [
    "try:\n",
    "    # Connect to MySQL database\n",
    "    connection = mysql.connector.connect(\n",
    "        host=\"localhost\",   # Change to your MySQL host if not localhost\n",
    "        user=\"root\",        # Change to your MySQL username\n",
    "        password=\"\",        # Change to your MySQL password\n",
    "        database=\"a6\"  # Change to the name of your MySQL database\n",
    "    )\n",
    "\n",
    "    if connection.is_connected():\n",
    "        print(\"Connected to MySQL database\")\n",
    "\n",
    "        # Perform database operations here\n",
    "\n",
    "except mysql.connector.Error as e:\n",
    "    print(\"Error connecting to MySQL database:\", e)"
   ]
  },
  {
   "cell_type": "code",
   "execution_count": 8,
   "id": "eca63a87",
   "metadata": {},
   "outputs": [],
   "source": [
    "\n",
    "        # Define the SQL query\n",
    "        sql_query = \"\"\"\n",
    "            SELECT i.LastName, i.FirstName, i.OfficePhone, c.CourseShortName,\n",
    "            r.BuildingName, l.LabID, T.StartTime, ci.ComputerID\n",
    "            FROM instructor i\n",
    "            JOIN section s ON i.empid = s.empid\n",
    "            JOIN course c ON s.courseid = c.courseid\n",
    "            JOIN schedule sc ON s.courseid = sc.courseid\n",
    "            JOIN room r ON sc.roomid = r.RoomID\n",
    "            JOIN lab l ON r.roomid = l.LabID\n",
    "            JOIN Timeslot t ON sc.tsid = t.TSID\n",
    "            JOIN computerinventory ci ON l.labid = ci.LabID\n",
    "            WHERE sc.year = 2012 AND sc.Semester = 'summer I';\n",
    "        \"\"\"\n",
    "\n",
    "        # Execute the SQL query and fetch the results\n",
    "        cursor = connection.cursor(dictionary=True)\n",
    "        cursor.execute(sql_query)\n",
    "        result = cursor.fetchall()\n",
    "\n",
    "        # Convert the result to a DataFrame\n",
    "        df = pd.DataFrame(result)\n"
   ]
  },
  {
   "cell_type": "code",
   "execution_count": 9,
   "id": "cd45b5d7",
   "metadata": {},
   "outputs": [
    {
     "name": "stdout",
     "output_type": "stream",
     "text": [
      "   LastName FirstName OfficePhone CourseShortName       BuildingName  LabID  \\\n",
      "0     Welch    Arthur  6395676434        CIED4430  Edmon Low Library    119   \n",
      "1  Johnston     Molly  7706439036        CIED4430  Edmon Low Library    119   \n",
      "2    Bailey   Bernard  9001558306        CIED4430  Edmon Low Library    119   \n",
      "3     Garza    Joshua  5344539625        CIED4430  Edmon Low Library    119   \n",
      "4   Marquez     Emily   562516141        CIED4430  Edmon Low Library    119   \n",
      "\n",
      "        StartTime  ComputerID  \n",
      "0 0 days 07:30:00         119  \n",
      "1 0 days 07:30:00         119  \n",
      "2 0 days 07:30:00         119  \n",
      "3 0 days 07:30:00         119  \n",
      "4 0 days 07:30:00         119  \n"
     ]
    }
   ],
   "source": [
    "# Do something with the DataFrame, for example, display the first few rows\n",
    "print(df.head())"
   ]
  },
  {
   "cell_type": "code",
   "execution_count": null,
   "id": "002ed449",
   "metadata": {},
   "outputs": [],
   "source": []
  }
 ],
 "metadata": {
  "kernelspec": {
   "display_name": "Python 3 (ipykernel)",
   "language": "python",
   "name": "python3"
  },
  "language_info": {
   "codemirror_mode": {
    "name": "ipython",
    "version": 3
   },
   "file_extension": ".py",
   "mimetype": "text/x-python",
   "name": "python",
   "nbconvert_exporter": "python",
   "pygments_lexer": "ipython3",
   "version": "3.9.12"
  }
 },
 "nbformat": 4,
 "nbformat_minor": 5
}
